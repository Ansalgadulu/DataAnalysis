{
 "cells": [
  {
   "cell_type": "code",
   "execution_count": 1,
   "id": "b10ae10a",
   "metadata": {
    "_cell_guid": "b1076dfc-b9ad-4769-8c92-a6c4dae69d19",
    "_uuid": "8f2839f25d086af736a60e9eeb907d3b93b6e0e5",
    "execution": {
     "iopub.execute_input": "2024-05-12T12:56:04.059979Z",
     "iopub.status.busy": "2024-05-12T12:56:04.059546Z",
     "iopub.status.idle": "2024-05-12T12:56:05.145937Z",
     "shell.execute_reply": "2024-05-12T12:56:05.144577Z"
    },
    "papermill": {
     "duration": 1.101026,
     "end_time": "2024-05-12T12:56:05.149159",
     "exception": false,
     "start_time": "2024-05-12T12:56:04.048133",
     "status": "completed"
    },
    "tags": []
   },
   "outputs": [
    {
     "name": "stdout",
     "output_type": "stream",
     "text": [
      "/kaggle/input/heart-disease-dataset/documentation.pdf\n",
      "/kaggle/input/heart-disease-dataset/heart_statlog_cleveland_hungary_final.csv\n"
     ]
    }
   ],
   "source": [
    "# This Python 3 environment comes with many helpful analytics libraries installed\n",
    "# It is defined by the kaggle/python Docker image: https://github.com/kaggle/docker-python\n",
    "# For example, here's several helpful packages to load\n",
    "\n",
    "import numpy as np # linear algebra\n",
    "import pandas as pd # data processing, CSV file I/O (e.g. pd.read_csv)\n",
    "\n",
    "# Input data files are available in the read-only \"../input/\" directory\n",
    "# For example, running this (by clicking run or pressing Shift+Enter) will list all files under the input directory\n",
    "\n",
    "import os\n",
    "for dirname, _, filenames in os.walk('/kaggle/input'):\n",
    "    for filename in filenames:\n",
    "        print(os.path.join(dirname, filename))\n",
    "\n",
    "# You can write up to 20GB to the current directory (/kaggle/working/) that gets preserved as output when you create a version using \"Save & Run All\" \n",
    "# You can also write temporary files to /kaggle/temp/, but they won't be saved outside of the current session"
   ]
  },
  {
   "cell_type": "code",
   "execution_count": 2,
   "id": "64a96aa5",
   "metadata": {
    "execution": {
     "iopub.execute_input": "2024-05-12T12:56:05.169890Z",
     "iopub.status.busy": "2024-05-12T12:56:05.169030Z",
     "iopub.status.idle": "2024-05-12T12:56:05.218525Z",
     "shell.execute_reply": "2024-05-12T12:56:05.217569Z"
    },
    "papermill": {
     "duration": 0.062775,
     "end_time": "2024-05-12T12:56:05.221067",
     "exception": false,
     "start_time": "2024-05-12T12:56:05.158292",
     "status": "completed"
    },
    "tags": []
   },
   "outputs": [
    {
     "data": {
      "text/html": [
       "<div>\n",
       "<style scoped>\n",
       "    .dataframe tbody tr th:only-of-type {\n",
       "        vertical-align: middle;\n",
       "    }\n",
       "\n",
       "    .dataframe tbody tr th {\n",
       "        vertical-align: top;\n",
       "    }\n",
       "\n",
       "    .dataframe thead th {\n",
       "        text-align: right;\n",
       "    }\n",
       "</style>\n",
       "<table border=\"1\" class=\"dataframe\">\n",
       "  <thead>\n",
       "    <tr style=\"text-align: right;\">\n",
       "      <th></th>\n",
       "      <th>age</th>\n",
       "      <th>sex</th>\n",
       "      <th>chest pain type</th>\n",
       "      <th>resting bp s</th>\n",
       "      <th>cholesterol</th>\n",
       "      <th>fasting blood sugar</th>\n",
       "      <th>resting ecg</th>\n",
       "      <th>max heart rate</th>\n",
       "      <th>exercise angina</th>\n",
       "      <th>oldpeak</th>\n",
       "      <th>ST slope</th>\n",
       "      <th>target</th>\n",
       "    </tr>\n",
       "  </thead>\n",
       "  <tbody>\n",
       "    <tr>\n",
       "      <th>0</th>\n",
       "      <td>40</td>\n",
       "      <td>1</td>\n",
       "      <td>2</td>\n",
       "      <td>140</td>\n",
       "      <td>289</td>\n",
       "      <td>0</td>\n",
       "      <td>0</td>\n",
       "      <td>172</td>\n",
       "      <td>0</td>\n",
       "      <td>0.0</td>\n",
       "      <td>1</td>\n",
       "      <td>0</td>\n",
       "    </tr>\n",
       "    <tr>\n",
       "      <th>1</th>\n",
       "      <td>49</td>\n",
       "      <td>0</td>\n",
       "      <td>3</td>\n",
       "      <td>160</td>\n",
       "      <td>180</td>\n",
       "      <td>0</td>\n",
       "      <td>0</td>\n",
       "      <td>156</td>\n",
       "      <td>0</td>\n",
       "      <td>1.0</td>\n",
       "      <td>2</td>\n",
       "      <td>1</td>\n",
       "    </tr>\n",
       "    <tr>\n",
       "      <th>2</th>\n",
       "      <td>37</td>\n",
       "      <td>1</td>\n",
       "      <td>2</td>\n",
       "      <td>130</td>\n",
       "      <td>283</td>\n",
       "      <td>0</td>\n",
       "      <td>1</td>\n",
       "      <td>98</td>\n",
       "      <td>0</td>\n",
       "      <td>0.0</td>\n",
       "      <td>1</td>\n",
       "      <td>0</td>\n",
       "    </tr>\n",
       "    <tr>\n",
       "      <th>3</th>\n",
       "      <td>48</td>\n",
       "      <td>0</td>\n",
       "      <td>4</td>\n",
       "      <td>138</td>\n",
       "      <td>214</td>\n",
       "      <td>0</td>\n",
       "      <td>0</td>\n",
       "      <td>108</td>\n",
       "      <td>1</td>\n",
       "      <td>1.5</td>\n",
       "      <td>2</td>\n",
       "      <td>1</td>\n",
       "    </tr>\n",
       "    <tr>\n",
       "      <th>4</th>\n",
       "      <td>54</td>\n",
       "      <td>1</td>\n",
       "      <td>3</td>\n",
       "      <td>150</td>\n",
       "      <td>195</td>\n",
       "      <td>0</td>\n",
       "      <td>0</td>\n",
       "      <td>122</td>\n",
       "      <td>0</td>\n",
       "      <td>0.0</td>\n",
       "      <td>1</td>\n",
       "      <td>0</td>\n",
       "    </tr>\n",
       "  </tbody>\n",
       "</table>\n",
       "</div>"
      ],
      "text/plain": [
       "   age  sex  chest pain type  resting bp s  cholesterol  fasting blood sugar  \\\n",
       "0   40    1                2           140          289                    0   \n",
       "1   49    0                3           160          180                    0   \n",
       "2   37    1                2           130          283                    0   \n",
       "3   48    0                4           138          214                    0   \n",
       "4   54    1                3           150          195                    0   \n",
       "\n",
       "   resting ecg  max heart rate  exercise angina  oldpeak  ST slope  target  \n",
       "0            0             172                0      0.0         1       0  \n",
       "1            0             156                0      1.0         2       1  \n",
       "2            1              98                0      0.0         1       0  \n",
       "3            0             108                1      1.5         2       1  \n",
       "4            0             122                0      0.0         1       0  "
      ]
     },
     "execution_count": 2,
     "metadata": {},
     "output_type": "execute_result"
    }
   ],
   "source": [
    "df=pd.read_csv('/kaggle/input/heart-disease-dataset/heart_statlog_cleveland_hungary_final.csv')\n",
    "df.head()\n"
   ]
  },
  {
   "cell_type": "code",
   "execution_count": 3,
   "id": "80954d57",
   "metadata": {
    "execution": {
     "iopub.execute_input": "2024-05-12T12:56:05.243222Z",
     "iopub.status.busy": "2024-05-12T12:56:05.241592Z",
     "iopub.status.idle": "2024-05-12T12:56:05.270354Z",
     "shell.execute_reply": "2024-05-12T12:56:05.269192Z"
    },
    "papermill": {
     "duration": 0.042998,
     "end_time": "2024-05-12T12:56:05.273669",
     "exception": false,
     "start_time": "2024-05-12T12:56:05.230671",
     "status": "completed"
    },
    "tags": []
   },
   "outputs": [
    {
     "name": "stdout",
     "output_type": "stream",
     "text": [
      "<class 'pandas.core.frame.DataFrame'>\n",
      "RangeIndex: 1190 entries, 0 to 1189\n",
      "Data columns (total 12 columns):\n",
      " #   Column               Non-Null Count  Dtype  \n",
      "---  ------               --------------  -----  \n",
      " 0   age                  1190 non-null   int64  \n",
      " 1   sex                  1190 non-null   int64  \n",
      " 2   chest pain type      1190 non-null   int64  \n",
      " 3   resting bp s         1190 non-null   int64  \n",
      " 4   cholesterol          1190 non-null   int64  \n",
      " 5   fasting blood sugar  1190 non-null   int64  \n",
      " 6   resting ecg          1190 non-null   int64  \n",
      " 7   max heart rate       1190 non-null   int64  \n",
      " 8   exercise angina      1190 non-null   int64  \n",
      " 9   oldpeak              1190 non-null   float64\n",
      " 10  ST slope             1190 non-null   int64  \n",
      " 11  target               1190 non-null   int64  \n",
      "dtypes: float64(1), int64(11)\n",
      "memory usage: 111.7 KB\n"
     ]
    }
   ],
   "source": [
    "#ensemble techniques\n",
    "#randomforest\n",
    "df.info()"
   ]
  },
  {
   "cell_type": "code",
   "execution_count": 4,
   "id": "a962eb14",
   "metadata": {
    "execution": {
     "iopub.execute_input": "2024-05-12T12:56:05.294692Z",
     "iopub.status.busy": "2024-05-12T12:56:05.294221Z",
     "iopub.status.idle": "2024-05-12T12:56:05.302933Z",
     "shell.execute_reply": "2024-05-12T12:56:05.301872Z"
    },
    "papermill": {
     "duration": 0.02226,
     "end_time": "2024-05-12T12:56:05.305401",
     "exception": false,
     "start_time": "2024-05-12T12:56:05.283141",
     "status": "completed"
    },
    "tags": []
   },
   "outputs": [
    {
     "data": {
      "text/plain": [
       "['age',\n",
       " 'resting bp s',\n",
       " 'cholesterol',\n",
       " 'resting ecg',\n",
       " 'max heart rate',\n",
       " 'exercise angina',\n",
       " 'oldpeak',\n",
       " 'ST slope']"
      ]
     },
     "execution_count": 4,
     "metadata": {},
     "output_type": "execute_result"
    }
   ],
   "source": [
    "cat_cols = ['chest pain type', 'sex','fasting blood sugar']\n",
    "num_cols = [x for x in df.columns if x not in cat_cols+['target']]\n",
    "\n",
    "# Now you can use cat_cols and num_cols as needed\n",
    "num_cols"
   ]
  },
  {
   "cell_type": "code",
   "execution_count": 5,
   "id": "205a49d7",
   "metadata": {
    "execution": {
     "iopub.execute_input": "2024-05-12T12:56:05.326756Z",
     "iopub.status.busy": "2024-05-12T12:56:05.326265Z",
     "iopub.status.idle": "2024-05-12T12:56:05.337265Z",
     "shell.execute_reply": "2024-05-12T12:56:05.335883Z"
    },
    "papermill": {
     "duration": 0.02533,
     "end_time": "2024-05-12T12:56:05.340206",
     "exception": false,
     "start_time": "2024-05-12T12:56:05.314876",
     "status": "completed"
    },
    "tags": []
   },
   "outputs": [
    {
     "data": {
      "text/plain": [
       "age                    0\n",
       "sex                    0\n",
       "chest pain type        0\n",
       "resting bp s           0\n",
       "cholesterol            0\n",
       "fasting blood sugar    0\n",
       "resting ecg            0\n",
       "max heart rate         0\n",
       "exercise angina        0\n",
       "oldpeak                0\n",
       "ST slope               0\n",
       "target                 0\n",
       "dtype: int64"
      ]
     },
     "execution_count": 5,
     "metadata": {},
     "output_type": "execute_result"
    }
   ],
   "source": [
    "df.isna().sum()"
   ]
  },
  {
   "cell_type": "code",
   "execution_count": 6,
   "id": "a8b13041",
   "metadata": {
    "execution": {
     "iopub.execute_input": "2024-05-12T12:56:05.362109Z",
     "iopub.status.busy": "2024-05-12T12:56:05.361650Z",
     "iopub.status.idle": "2024-05-12T12:56:05.418334Z",
     "shell.execute_reply": "2024-05-12T12:56:05.416342Z"
    },
    "papermill": {
     "duration": 0.072109,
     "end_time": "2024-05-12T12:56:05.422024",
     "exception": false,
     "start_time": "2024-05-12T12:56:05.349915",
     "status": "completed"
    },
    "tags": []
   },
   "outputs": [
    {
     "data": {
      "text/html": [
       "<div>\n",
       "<style scoped>\n",
       "    .dataframe tbody tr th:only-of-type {\n",
       "        vertical-align: middle;\n",
       "    }\n",
       "\n",
       "    .dataframe tbody tr th {\n",
       "        vertical-align: top;\n",
       "    }\n",
       "\n",
       "    .dataframe thead th {\n",
       "        text-align: right;\n",
       "    }\n",
       "</style>\n",
       "<table border=\"1\" class=\"dataframe\">\n",
       "  <thead>\n",
       "    <tr style=\"text-align: right;\">\n",
       "      <th></th>\n",
       "      <th>age</th>\n",
       "      <th>sex</th>\n",
       "      <th>chest pain type</th>\n",
       "      <th>resting bp s</th>\n",
       "      <th>cholesterol</th>\n",
       "      <th>fasting blood sugar</th>\n",
       "      <th>resting ecg</th>\n",
       "      <th>max heart rate</th>\n",
       "      <th>exercise angina</th>\n",
       "      <th>oldpeak</th>\n",
       "      <th>ST slope</th>\n",
       "      <th>target</th>\n",
       "    </tr>\n",
       "  </thead>\n",
       "  <tbody>\n",
       "    <tr>\n",
       "      <th>count</th>\n",
       "      <td>1190.000000</td>\n",
       "      <td>1190.000000</td>\n",
       "      <td>1190.000000</td>\n",
       "      <td>1190.000000</td>\n",
       "      <td>1190.000000</td>\n",
       "      <td>1190.000000</td>\n",
       "      <td>1190.000000</td>\n",
       "      <td>1190.000000</td>\n",
       "      <td>1190.000000</td>\n",
       "      <td>1190.000000</td>\n",
       "      <td>1190.000000</td>\n",
       "      <td>1190.000000</td>\n",
       "    </tr>\n",
       "    <tr>\n",
       "      <th>mean</th>\n",
       "      <td>53.720168</td>\n",
       "      <td>0.763866</td>\n",
       "      <td>3.232773</td>\n",
       "      <td>132.153782</td>\n",
       "      <td>210.363866</td>\n",
       "      <td>0.213445</td>\n",
       "      <td>0.698319</td>\n",
       "      <td>139.732773</td>\n",
       "      <td>0.387395</td>\n",
       "      <td>0.922773</td>\n",
       "      <td>1.624370</td>\n",
       "      <td>0.528571</td>\n",
       "    </tr>\n",
       "    <tr>\n",
       "      <th>std</th>\n",
       "      <td>9.358203</td>\n",
       "      <td>0.424884</td>\n",
       "      <td>0.935480</td>\n",
       "      <td>18.368823</td>\n",
       "      <td>101.420489</td>\n",
       "      <td>0.409912</td>\n",
       "      <td>0.870359</td>\n",
       "      <td>25.517636</td>\n",
       "      <td>0.487360</td>\n",
       "      <td>1.086337</td>\n",
       "      <td>0.610459</td>\n",
       "      <td>0.499393</td>\n",
       "    </tr>\n",
       "    <tr>\n",
       "      <th>min</th>\n",
       "      <td>28.000000</td>\n",
       "      <td>0.000000</td>\n",
       "      <td>1.000000</td>\n",
       "      <td>0.000000</td>\n",
       "      <td>0.000000</td>\n",
       "      <td>0.000000</td>\n",
       "      <td>0.000000</td>\n",
       "      <td>60.000000</td>\n",
       "      <td>0.000000</td>\n",
       "      <td>-2.600000</td>\n",
       "      <td>0.000000</td>\n",
       "      <td>0.000000</td>\n",
       "    </tr>\n",
       "    <tr>\n",
       "      <th>25%</th>\n",
       "      <td>47.000000</td>\n",
       "      <td>1.000000</td>\n",
       "      <td>3.000000</td>\n",
       "      <td>120.000000</td>\n",
       "      <td>188.000000</td>\n",
       "      <td>0.000000</td>\n",
       "      <td>0.000000</td>\n",
       "      <td>121.000000</td>\n",
       "      <td>0.000000</td>\n",
       "      <td>0.000000</td>\n",
       "      <td>1.000000</td>\n",
       "      <td>0.000000</td>\n",
       "    </tr>\n",
       "    <tr>\n",
       "      <th>50%</th>\n",
       "      <td>54.000000</td>\n",
       "      <td>1.000000</td>\n",
       "      <td>4.000000</td>\n",
       "      <td>130.000000</td>\n",
       "      <td>229.000000</td>\n",
       "      <td>0.000000</td>\n",
       "      <td>0.000000</td>\n",
       "      <td>140.500000</td>\n",
       "      <td>0.000000</td>\n",
       "      <td>0.600000</td>\n",
       "      <td>2.000000</td>\n",
       "      <td>1.000000</td>\n",
       "    </tr>\n",
       "    <tr>\n",
       "      <th>75%</th>\n",
       "      <td>60.000000</td>\n",
       "      <td>1.000000</td>\n",
       "      <td>4.000000</td>\n",
       "      <td>140.000000</td>\n",
       "      <td>269.750000</td>\n",
       "      <td>0.000000</td>\n",
       "      <td>2.000000</td>\n",
       "      <td>160.000000</td>\n",
       "      <td>1.000000</td>\n",
       "      <td>1.600000</td>\n",
       "      <td>2.000000</td>\n",
       "      <td>1.000000</td>\n",
       "    </tr>\n",
       "    <tr>\n",
       "      <th>max</th>\n",
       "      <td>77.000000</td>\n",
       "      <td>1.000000</td>\n",
       "      <td>4.000000</td>\n",
       "      <td>200.000000</td>\n",
       "      <td>603.000000</td>\n",
       "      <td>1.000000</td>\n",
       "      <td>2.000000</td>\n",
       "      <td>202.000000</td>\n",
       "      <td>1.000000</td>\n",
       "      <td>6.200000</td>\n",
       "      <td>3.000000</td>\n",
       "      <td>1.000000</td>\n",
       "    </tr>\n",
       "  </tbody>\n",
       "</table>\n",
       "</div>"
      ],
      "text/plain": [
       "               age          sex  chest pain type  resting bp s  cholesterol  \\\n",
       "count  1190.000000  1190.000000      1190.000000   1190.000000  1190.000000   \n",
       "mean     53.720168     0.763866         3.232773    132.153782   210.363866   \n",
       "std       9.358203     0.424884         0.935480     18.368823   101.420489   \n",
       "min      28.000000     0.000000         1.000000      0.000000     0.000000   \n",
       "25%      47.000000     1.000000         3.000000    120.000000   188.000000   \n",
       "50%      54.000000     1.000000         4.000000    130.000000   229.000000   \n",
       "75%      60.000000     1.000000         4.000000    140.000000   269.750000   \n",
       "max      77.000000     1.000000         4.000000    200.000000   603.000000   \n",
       "\n",
       "       fasting blood sugar  resting ecg  max heart rate  exercise angina  \\\n",
       "count          1190.000000  1190.000000     1190.000000      1190.000000   \n",
       "mean              0.213445     0.698319      139.732773         0.387395   \n",
       "std               0.409912     0.870359       25.517636         0.487360   \n",
       "min               0.000000     0.000000       60.000000         0.000000   \n",
       "25%               0.000000     0.000000      121.000000         0.000000   \n",
       "50%               0.000000     0.000000      140.500000         0.000000   \n",
       "75%               0.000000     2.000000      160.000000         1.000000   \n",
       "max               1.000000     2.000000      202.000000         1.000000   \n",
       "\n",
       "           oldpeak     ST slope       target  \n",
       "count  1190.000000  1190.000000  1190.000000  \n",
       "mean      0.922773     1.624370     0.528571  \n",
       "std       1.086337     0.610459     0.499393  \n",
       "min      -2.600000     0.000000     0.000000  \n",
       "25%       0.000000     1.000000     0.000000  \n",
       "50%       0.600000     2.000000     1.000000  \n",
       "75%       1.600000     2.000000     1.000000  \n",
       "max       6.200000     3.000000     1.000000  "
      ]
     },
     "execution_count": 6,
     "metadata": {},
     "output_type": "execute_result"
    }
   ],
   "source": [
    "df.describe()"
   ]
  },
  {
   "cell_type": "code",
   "execution_count": 7,
   "id": "959c8112",
   "metadata": {
    "execution": {
     "iopub.execute_input": "2024-05-12T12:56:05.445853Z",
     "iopub.status.busy": "2024-05-12T12:56:05.445374Z",
     "iopub.status.idle": "2024-05-12T12:56:07.411389Z",
     "shell.execute_reply": "2024-05-12T12:56:07.410081Z"
    },
    "papermill": {
     "duration": 1.981375,
     "end_time": "2024-05-12T12:56:07.414963",
     "exception": false,
     "start_time": "2024-05-12T12:56:05.433588",
     "status": "completed"
    },
    "tags": []
   },
   "outputs": [],
   "source": [
    "from sklearn.compose import ColumnTransformer\n",
    "from sklearn.preprocessing import StandardScaler,MinMaxScaler,OneHotEncoder,LabelEncoder\n",
    "from sklearn.model_selection import train_test_split, GridSearchCV, RandomizedSearchCV\n",
    "from sklearn.metrics import accuracy_score,classification_report\n",
    "from sklearn.ensemble import RandomForestClassifier, AdaBoostClassifier, GradientBoostingClassifier"
   ]
  },
  {
   "cell_type": "code",
   "execution_count": 8,
   "id": "d3b882b3",
   "metadata": {
    "execution": {
     "iopub.execute_input": "2024-05-12T12:56:07.437188Z",
     "iopub.status.busy": "2024-05-12T12:56:07.436680Z",
     "iopub.status.idle": "2024-05-12T12:56:07.453129Z",
     "shell.execute_reply": "2024-05-12T12:56:07.451564Z"
    },
    "papermill": {
     "duration": 0.030969,
     "end_time": "2024-05-12T12:56:07.455859",
     "exception": false,
     "start_time": "2024-05-12T12:56:07.424890",
     "status": "completed"
    },
    "tags": []
   },
   "outputs": [
    {
     "name": "stdout",
     "output_type": "stream",
     "text": [
      "(833, 11)\n",
      "(357, 11)\n",
      "(833,)\n",
      "(357,)\n"
     ]
    }
   ],
   "source": [
    "xtr,xte,ytr,yte=train_test_split(df.drop('target',axis=1),df['target'], test_size=0.3)\n",
    "for i in [xtr,xte,ytr,yte]:\n",
    "    print(i.shape)"
   ]
  },
  {
   "cell_type": "code",
   "execution_count": 9,
   "id": "57bf7ec9",
   "metadata": {
    "execution": {
     "iopub.execute_input": "2024-05-12T12:56:07.479864Z",
     "iopub.status.busy": "2024-05-12T12:56:07.479055Z",
     "iopub.status.idle": "2024-05-12T12:56:07.495217Z",
     "shell.execute_reply": "2024-05-12T12:56:07.494012Z"
    },
    "papermill": {
     "duration": 0.031007,
     "end_time": "2024-05-12T12:56:07.498031",
     "exception": false,
     "start_time": "2024-05-12T12:56:07.467024",
     "status": "completed"
    },
    "tags": []
   },
   "outputs": [
    {
     "data": {
      "text/html": [
       "<div>\n",
       "<style scoped>\n",
       "    .dataframe tbody tr th:only-of-type {\n",
       "        vertical-align: middle;\n",
       "    }\n",
       "\n",
       "    .dataframe tbody tr th {\n",
       "        vertical-align: top;\n",
       "    }\n",
       "\n",
       "    .dataframe thead th {\n",
       "        text-align: right;\n",
       "    }\n",
       "</style>\n",
       "<table border=\"1\" class=\"dataframe\">\n",
       "  <thead>\n",
       "    <tr style=\"text-align: right;\">\n",
       "      <th></th>\n",
       "      <th>age</th>\n",
       "      <th>sex</th>\n",
       "      <th>chest pain type</th>\n",
       "      <th>resting bp s</th>\n",
       "      <th>cholesterol</th>\n",
       "      <th>fasting blood sugar</th>\n",
       "      <th>resting ecg</th>\n",
       "      <th>max heart rate</th>\n",
       "      <th>exercise angina</th>\n",
       "      <th>oldpeak</th>\n",
       "      <th>ST slope</th>\n",
       "    </tr>\n",
       "  </thead>\n",
       "  <tbody>\n",
       "    <tr>\n",
       "      <th>234</th>\n",
       "      <td>41</td>\n",
       "      <td>1</td>\n",
       "      <td>4</td>\n",
       "      <td>112</td>\n",
       "      <td>250</td>\n",
       "      <td>0</td>\n",
       "      <td>0</td>\n",
       "      <td>142</td>\n",
       "      <td>0</td>\n",
       "      <td>0.0</td>\n",
       "      <td>1</td>\n",
       "    </tr>\n",
       "    <tr>\n",
       "      <th>449</th>\n",
       "      <td>63</td>\n",
       "      <td>1</td>\n",
       "      <td>4</td>\n",
       "      <td>160</td>\n",
       "      <td>230</td>\n",
       "      <td>1</td>\n",
       "      <td>0</td>\n",
       "      <td>105</td>\n",
       "      <td>1</td>\n",
       "      <td>1.0</td>\n",
       "      <td>2</td>\n",
       "    </tr>\n",
       "    <tr>\n",
       "      <th>185</th>\n",
       "      <td>54</td>\n",
       "      <td>0</td>\n",
       "      <td>2</td>\n",
       "      <td>160</td>\n",
       "      <td>312</td>\n",
       "      <td>0</td>\n",
       "      <td>0</td>\n",
       "      <td>130</td>\n",
       "      <td>0</td>\n",
       "      <td>0.0</td>\n",
       "      <td>1</td>\n",
       "    </tr>\n",
       "    <tr>\n",
       "      <th>219</th>\n",
       "      <td>55</td>\n",
       "      <td>1</td>\n",
       "      <td>2</td>\n",
       "      <td>140</td>\n",
       "      <td>196</td>\n",
       "      <td>0</td>\n",
       "      <td>0</td>\n",
       "      <td>150</td>\n",
       "      <td>0</td>\n",
       "      <td>0.0</td>\n",
       "      <td>1</td>\n",
       "    </tr>\n",
       "    <tr>\n",
       "      <th>269</th>\n",
       "      <td>54</td>\n",
       "      <td>1</td>\n",
       "      <td>4</td>\n",
       "      <td>130</td>\n",
       "      <td>242</td>\n",
       "      <td>0</td>\n",
       "      <td>0</td>\n",
       "      <td>91</td>\n",
       "      <td>1</td>\n",
       "      <td>1.0</td>\n",
       "      <td>2</td>\n",
       "    </tr>\n",
       "  </tbody>\n",
       "</table>\n",
       "</div>"
      ],
      "text/plain": [
       "     age  sex  chest pain type  resting bp s  cholesterol  \\\n",
       "234   41    1                4           112          250   \n",
       "449   63    1                4           160          230   \n",
       "185   54    0                2           160          312   \n",
       "219   55    1                2           140          196   \n",
       "269   54    1                4           130          242   \n",
       "\n",
       "     fasting blood sugar  resting ecg  max heart rate  exercise angina  \\\n",
       "234                    0            0             142                0   \n",
       "449                    1            0             105                1   \n",
       "185                    0            0             130                0   \n",
       "219                    0            0             150                0   \n",
       "269                    0            0              91                1   \n",
       "\n",
       "     oldpeak  ST slope  \n",
       "234      0.0         1  \n",
       "449      1.0         2  \n",
       "185      0.0         1  \n",
       "219      0.0         1  \n",
       "269      1.0         2  "
      ]
     },
     "execution_count": 9,
     "metadata": {},
     "output_type": "execute_result"
    }
   ],
   "source": [
    "xtr.head()"
   ]
  },
  {
   "cell_type": "code",
   "execution_count": 10,
   "id": "00a3e86f",
   "metadata": {
    "execution": {
     "iopub.execute_input": "2024-05-12T12:56:07.523593Z",
     "iopub.status.busy": "2024-05-12T12:56:07.522763Z",
     "iopub.status.idle": "2024-05-12T12:56:07.529670Z",
     "shell.execute_reply": "2024-05-12T12:56:07.528676Z"
    },
    "papermill": {
     "duration": 0.022263,
     "end_time": "2024-05-12T12:56:07.532332",
     "exception": false,
     "start_time": "2024-05-12T12:56:07.510069",
     "status": "completed"
    },
    "tags": []
   },
   "outputs": [
    {
     "data": {
      "text/plain": [
       "Index(['age', 'sex', 'chest pain type', 'resting bp s', 'cholesterol',\n",
       "       'fasting blood sugar', 'resting ecg', 'max heart rate',\n",
       "       'exercise angina', 'oldpeak', 'ST slope', 'target'],\n",
       "      dtype='object')"
      ]
     },
     "execution_count": 10,
     "metadata": {},
     "output_type": "execute_result"
    }
   ],
   "source": [
    "df.columns"
   ]
  },
  {
   "cell_type": "code",
   "execution_count": 11,
   "id": "a73289fe",
   "metadata": {
    "execution": {
     "iopub.execute_input": "2024-05-12T12:56:07.555705Z",
     "iopub.status.busy": "2024-05-12T12:56:07.555202Z",
     "iopub.status.idle": "2024-05-12T12:56:07.573461Z",
     "shell.execute_reply": "2024-05-12T12:56:07.572526Z"
    },
    "papermill": {
     "duration": 0.032884,
     "end_time": "2024-05-12T12:56:07.575901",
     "exception": false,
     "start_time": "2024-05-12T12:56:07.543017",
     "status": "completed"
    },
    "tags": []
   },
   "outputs": [
    {
     "data": {
      "text/plain": [
       "((833, 11), (833,))"
      ]
     },
     "execution_count": 11,
     "metadata": {},
     "output_type": "execute_result"
    }
   ],
   "source": [
    "# Scale numerical columns\n",
    "mms = MinMaxScaler()\n",
    "scaled_nums = mms.fit_transform(xtr[num_cols])\n",
    "df_scaled_nums = pd.DataFrame(scaled_nums, columns=mms.get_feature_names_out(num_cols))\n",
    "\n",
    "# Reset index of categorical columns DataFrame\n",
    "xtr_cat_reset = xtr[cat_cols].reset_index(drop=True)  # Resetting index to avoid index mismatch\n",
    "\n",
    "# Concatenate scaled numerical and categorical columns\n",
    "xtr_scaled = pd.concat([df_scaled_nums, xtr_cat_reset], axis=1)\n",
    "xtr_scaled.shape, ytr.shape"
   ]
  },
  {
   "cell_type": "code",
   "execution_count": 12,
   "id": "02b8f952",
   "metadata": {
    "execution": {
     "iopub.execute_input": "2024-05-12T12:56:07.599713Z",
     "iopub.status.busy": "2024-05-12T12:56:07.598982Z",
     "iopub.status.idle": "2024-05-12T12:56:07.612993Z",
     "shell.execute_reply": "2024-05-12T12:56:07.611835Z"
    },
    "papermill": {
     "duration": 0.028917,
     "end_time": "2024-05-12T12:56:07.615548",
     "exception": false,
     "start_time": "2024-05-12T12:56:07.586631",
     "status": "completed"
    },
    "tags": []
   },
   "outputs": [
    {
     "data": {
      "text/plain": [
       "((357, 11), (357,))"
      ]
     },
     "execution_count": 12,
     "metadata": {},
     "output_type": "execute_result"
    }
   ],
   "source": [
    "temp_te=mms.transform(xte[num_cols])\n",
    "df_scaled_nums=pd.DataFrame((temp_te),columns=mms.get_feature_names_out())\n",
    "\n",
    "xte_scaled =pd.concat([df_scaled_nums, xte[cat_cols].reset_index(drop=True)] ,axis=1,ignore_index=True)\n",
    "xte_scaled.shape,yte.shape"
   ]
  },
  {
   "cell_type": "code",
   "execution_count": 13,
   "id": "ad4cb73b",
   "metadata": {
    "execution": {
     "iopub.execute_input": "2024-05-12T12:56:07.641587Z",
     "iopub.status.busy": "2024-05-12T12:56:07.640851Z",
     "iopub.status.idle": "2024-05-12T12:56:07.840542Z",
     "shell.execute_reply": "2024-05-12T12:56:07.838990Z"
    },
    "papermill": {
     "duration": 0.216391,
     "end_time": "2024-05-12T12:56:07.843911",
     "exception": false,
     "start_time": "2024-05-12T12:56:07.627520",
     "status": "completed"
    },
    "tags": []
   },
   "outputs": [
    {
     "name": "stdout",
     "output_type": "stream",
     "text": [
      "0.8291316526610645\n",
      "              precision    recall  f1-score   support\n",
      "\n",
      "           0       0.80      0.82      0.81       157\n",
      "           1       0.86      0.83      0.85       200\n",
      "\n",
      "    accuracy                           0.83       357\n",
      "   macro avg       0.83      0.83      0.83       357\n",
      "weighted avg       0.83      0.83      0.83       357\n",
      "\n"
     ]
    }
   ],
   "source": [
    "score_base_models={}\n",
    "ada=AdaBoostClassifier()\n",
    "ada.fit(xtr,ytr)\n",
    "score_base_models['AdaBoost'] =ada.score(xte,yte)\n",
    "print(ada.score(xte,yte))\n",
    "ypred=ada.predict(xte)\n",
    "print(classification_report(ypred,yte))\n"
   ]
  },
  {
   "cell_type": "code",
   "execution_count": 14,
   "id": "9a6094cf",
   "metadata": {
    "execution": {
     "iopub.execute_input": "2024-05-12T12:56:07.868683Z",
     "iopub.status.busy": "2024-05-12T12:56:07.868132Z",
     "iopub.status.idle": "2024-05-12T12:56:22.935568Z",
     "shell.execute_reply": "2024-05-12T12:56:22.933603Z"
    },
    "papermill": {
     "duration": 15.083496,
     "end_time": "2024-05-12T12:56:22.938867",
     "exception": false,
     "start_time": "2024-05-12T12:56:07.855371",
     "status": "completed"
    },
    "tags": []
   },
   "outputs": [
    {
     "name": "stdout",
     "output_type": "stream",
     "text": [
      "0.8095238095238095\n",
      "              precision    recall  f1-score   support\n",
      "\n",
      "           0       0.76      0.81      0.78       152\n",
      "           1       0.85      0.81      0.83       205\n",
      "\n",
      "    accuracy                           0.81       357\n",
      "   macro avg       0.81      0.81      0.81       357\n",
      "weighted avg       0.81      0.81      0.81       357\n",
      "\n"
     ]
    }
   ],
   "source": [
    "tuned={}\n",
    "tuned['AdaBoost']=[]\n",
    "params={\"n_estimators\":[10,20,50,100,150], \"learning_rate\":[0.1,0.2,0.3,0.5,0.8,1,2.0]}\n",
    "gd=GridSearchCV(AdaBoostClassifier(),param_grid = params , n_jobs =-1, cv =5)\n",
    "gd.fit(xtr,ytr)\n",
    "tuned['AdaBoost'].append(gd.score(xte,yte))\n",
    "tuned['AdaBoost'].append(gd.best_params_)\n",
    "print(gd.score(xte,yte))\n",
    "ypred=gd.predict(xte)\n",
    "print(classification_report(ypred,yte))"
   ]
  },
  {
   "cell_type": "code",
   "execution_count": 15,
   "id": "981c3438",
   "metadata": {
    "execution": {
     "iopub.execute_input": "2024-05-12T12:56:22.964052Z",
     "iopub.status.busy": "2024-05-12T12:56:22.963562Z",
     "iopub.status.idle": "2024-05-12T12:56:23.335068Z",
     "shell.execute_reply": "2024-05-12T12:56:23.332802Z"
    },
    "papermill": {
     "duration": 0.388209,
     "end_time": "2024-05-12T12:56:23.338331",
     "exception": false,
     "start_time": "2024-05-12T12:56:22.950122",
     "status": "completed"
    },
    "tags": []
   },
   "outputs": [
    {
     "name": "stdout",
     "output_type": "stream",
     "text": [
      "0.896358543417367\n",
      "              precision    recall  f1-score   support\n",
      "\n",
      "           0       0.84      0.93      0.88       147\n",
      "           1       0.94      0.88      0.91       210\n",
      "\n",
      "    accuracy                           0.90       357\n",
      "   macro avg       0.89      0.90      0.89       357\n",
      "weighted avg       0.90      0.90      0.90       357\n",
      "\n"
     ]
    }
   ],
   "source": [
    "# score_base_models={}\n",
    "rf=RandomForestClassifier()\n",
    "rf.fit(xtr,ytr)\n",
    "score_base_models['RadomForest_base'] =rf.score(xte,yte)\n",
    "print(rf.score(xte,yte))\n",
    "ypred=rf.predict(xte)\n",
    "print(classification_report(ypred,yte))"
   ]
  },
  {
   "cell_type": "code",
   "execution_count": 16,
   "id": "ee4f3905",
   "metadata": {
    "execution": {
     "iopub.execute_input": "2024-05-12T12:56:23.364122Z",
     "iopub.status.busy": "2024-05-12T12:56:23.363682Z",
     "iopub.status.idle": "2024-05-12T12:56:50.997706Z",
     "shell.execute_reply": "2024-05-12T12:56:50.996748Z"
    },
    "papermill": {
     "duration": 27.649834,
     "end_time": "2024-05-12T12:56:51.000008",
     "exception": false,
     "start_time": "2024-05-12T12:56:23.350174",
     "status": "completed"
    },
    "tags": []
   },
   "outputs": [
    {
     "name": "stdout",
     "output_type": "stream",
     "text": [
      "0.8907563025210085\n",
      "              precision    recall  f1-score   support\n",
      "\n",
      "           0       0.83      0.92      0.87       147\n",
      "           1       0.94      0.87      0.90       210\n",
      "\n",
      "    accuracy                           0.89       357\n",
      "   macro avg       0.89      0.89      0.89       357\n",
      "weighted avg       0.90      0.89      0.89       357\n",
      "\n"
     ]
    }
   ],
   "source": [
    "tuned['RadomForestClassifier']=[]\n",
    "params={\"n_estimators\":[10,20,50,100,150], \"criterion\":['gini','entropy'], 'max_depth':[10,20,30,50],\"bootstrap\":[True,False]}\n",
    "gd=GridSearchCV(RandomForestClassifier(),param_grid = params , n_jobs =-1, cv =5)\n",
    "gd.fit(xtr,ytr)\n",
    "tuned['RadomForestClassifier'].append(gd.score(xte,yte))\n",
    "tuned['RadomForestClassifier'].append(gd.best_params_)\n",
    "print(gd.score(xte,yte))\n",
    "ypred=gd.predict(xte)\n",
    "print(classification_report(ypred,yte))"
   ]
  },
  {
   "cell_type": "code",
   "execution_count": 17,
   "id": "c8c5f768",
   "metadata": {
    "execution": {
     "iopub.execute_input": "2024-05-12T12:56:51.024526Z",
     "iopub.status.busy": "2024-05-12T12:56:51.023331Z",
     "iopub.status.idle": "2024-05-12T12:56:51.236258Z",
     "shell.execute_reply": "2024-05-12T12:56:51.235356Z"
    },
    "papermill": {
     "duration": 0.228097,
     "end_time": "2024-05-12T12:56:51.239237",
     "exception": false,
     "start_time": "2024-05-12T12:56:51.011140",
     "status": "completed"
    },
    "tags": []
   },
   "outputs": [
    {
     "name": "stdout",
     "output_type": "stream",
     "text": [
      "0.8739495798319328\n",
      "              precision    recall  f1-score   support\n",
      "\n",
      "           0       0.84      0.88      0.86       155\n",
      "           1       0.90      0.87      0.89       202\n",
      "\n",
      "    accuracy                           0.87       357\n",
      "   macro avg       0.87      0.87      0.87       357\n",
      "weighted avg       0.88      0.87      0.87       357\n",
      "\n"
     ]
    }
   ],
   "source": [
    "# score_base_models={}\n",
    "gbc=GradientBoostingClassifier()\n",
    "gbc.fit(xtr,ytr)\n",
    "score_base_models['GradientBoost'] =gbc.score(xte,yte)\n",
    "print(gbc.score(xte,yte))\n",
    "ypred=gbc.predict(xte)\n",
    "print(classification_report(ypred,yte))"
   ]
  },
  {
   "cell_type": "code",
   "execution_count": 18,
   "id": "d78937f0",
   "metadata": {
    "execution": {
     "iopub.execute_input": "2024-05-12T12:56:51.264475Z",
     "iopub.status.busy": "2024-05-12T12:56:51.263300Z",
     "iopub.status.idle": "2024-05-12T12:58:54.785706Z",
     "shell.execute_reply": "2024-05-12T12:58:54.784568Z"
    },
    "papermill": {
     "duration": 123.549595,
     "end_time": "2024-05-12T12:58:54.800042",
     "exception": false,
     "start_time": "2024-05-12T12:56:51.250447",
     "status": "completed"
    },
    "tags": []
   },
   "outputs": [
    {
     "name": "stdout",
     "output_type": "stream",
     "text": [
      "0.8935574229691877\n",
      "              precision    recall  f1-score   support\n",
      "\n",
      "           0       0.87      0.89      0.88       158\n",
      "           1       0.91      0.89      0.90       199\n",
      "\n",
      "    accuracy                           0.89       357\n",
      "   macro avg       0.89      0.89      0.89       357\n",
      "weighted avg       0.89      0.89      0.89       357\n",
      "\n"
     ]
    }
   ],
   "source": [
    "tuned['GradientBoost']=[]\n",
    "params={'n_estimators': [50, 100, 150],\n",
    "        'learning_rate': [0.01, 0.1, 1.0],\n",
    "        'max_depth': [3, 5, 7],\n",
    "        'min_samples_split': [2, 5, 10],\n",
    "        'min_samples_leaf': [1, 2, 4]}\n",
    "gd=GridSearchCV(GradientBoostingClassifier(),param_grid = params , n_jobs =-1, cv =5)\n",
    "history=gd.fit(xtr,ytr)\n",
    "tuned['GradientBoost'].append(gd.score(xte,yte))\n",
    "tuned['GradientBoost'].append(gd.best_params_)\n",
    "print(gd.score(xte,yte))\n",
    "ypred=gd.predict(xte)\n",
    "print(classification_report(ypred,yte))"
   ]
  },
  {
   "cell_type": "code",
   "execution_count": 19,
   "id": "ba7c2936",
   "metadata": {
    "execution": {
     "iopub.execute_input": "2024-05-12T12:58:54.824951Z",
     "iopub.status.busy": "2024-05-12T12:58:54.823825Z",
     "iopub.status.idle": "2024-05-12T12:58:59.116346Z",
     "shell.execute_reply": "2024-05-12T12:58:59.114727Z"
    },
    "papermill": {
     "duration": 4.308372,
     "end_time": "2024-05-12T12:58:59.119637",
     "exception": false,
     "start_time": "2024-05-12T12:58:54.811265",
     "status": "completed"
    },
    "tags": []
   },
   "outputs": [
    {
     "name": "stdout",
     "output_type": "stream",
     "text": [
      "0.8851540616246498\n",
      "              precision    recall  f1-score   support\n",
      "\n",
      "           0       0.86      0.89      0.87       157\n",
      "           1       0.91      0.89      0.90       200\n",
      "\n",
      "    accuracy                           0.89       357\n",
      "   macro avg       0.88      0.89      0.88       357\n",
      "weighted avg       0.89      0.89      0.89       357\n",
      "\n"
     ]
    }
   ],
   "source": [
    "tuned['GradientBoost']=[]\n",
    "params={'n_estimators': [50, 100, 150],\n",
    "        'learning_rate': [0.01, 0.1, 1.0],\n",
    "        'max_depth': [3, 5, 7],\n",
    "        'min_samples_split': [2, 5, 10],\n",
    "        'min_samples_leaf': [1, 2, 4]}\n",
    "gd=RandomizedSearchCV(GradientBoostingClassifier(),param_distributions = params , n_jobs =-1, cv =5)\n",
    "history=gd.fit(xtr,ytr)\n",
    "tuned['GradientBoost'].append(gd.score(xte,yte))\n",
    "tuned['GradientBoost'].append(gd.best_params_)\n",
    "print(gd.score(xte,yte))\n",
    "ypred=gd.predict(xte)\n",
    "print(classification_report(ypred,yte))"
   ]
  },
  {
   "cell_type": "code",
   "execution_count": 20,
   "id": "d10678cc",
   "metadata": {
    "execution": {
     "iopub.execute_input": "2024-05-12T12:58:59.146061Z",
     "iopub.status.busy": "2024-05-12T12:58:59.145639Z",
     "iopub.status.idle": "2024-05-12T12:58:59.350173Z",
     "shell.execute_reply": "2024-05-12T12:58:59.348699Z"
    },
    "papermill": {
     "duration": 0.22283,
     "end_time": "2024-05-12T12:58:59.355142",
     "exception": false,
     "start_time": "2024-05-12T12:58:59.132312",
     "status": "completed"
    },
    "tags": []
   },
   "outputs": [
    {
     "name": "stdout",
     "output_type": "stream",
     "text": [
      "0.7002801120448179\n",
      "              precision    recall  f1-score   support\n",
      "\n",
      "           0       0.70      0.66      0.68       171\n",
      "           1       0.70      0.74      0.72       186\n",
      "\n",
      "    accuracy                           0.70       357\n",
      "   macro avg       0.70      0.70      0.70       357\n",
      "weighted avg       0.70      0.70      0.70       357\n",
      "\n"
     ]
    }
   ],
   "source": [
    "from sklearn.neighbors import KNeighborsClassifier\n",
    "from sklearn.cluster import KMeans\n",
    "knn=KNeighborsClassifier(n_neighbors= 5)\n",
    "knn.fit(xtr,ytr)\n",
    "score_base_models['KNN'] =knn.score(xte,yte)\n",
    "print(knn.score(xte,yte))\n",
    "ypred=knn.predict(xte)\n",
    "print(classification_report(ypred,yte))"
   ]
  },
  {
   "cell_type": "code",
   "execution_count": 21,
   "id": "9185bf0b",
   "metadata": {
    "execution": {
     "iopub.execute_input": "2024-05-12T12:58:59.389708Z",
     "iopub.status.busy": "2024-05-12T12:58:59.389191Z",
     "iopub.status.idle": "2024-05-12T12:58:59.397410Z",
     "shell.execute_reply": "2024-05-12T12:58:59.396511Z"
    },
    "papermill": {
     "duration": 0.027682,
     "end_time": "2024-05-12T12:58:59.399746",
     "exception": false,
     "start_time": "2024-05-12T12:58:59.372064",
     "status": "completed"
    },
    "tags": []
   },
   "outputs": [
    {
     "data": {
      "text/plain": [
       "{'AdaBoost': [0.8095238095238095, {'learning_rate': 0.2, 'n_estimators': 150}],\n",
       " 'RadomForestClassifier': [0.8907563025210085,\n",
       "  {'bootstrap': True,\n",
       "   'criterion': 'gini',\n",
       "   'max_depth': 50,\n",
       "   'n_estimators': 100}],\n",
       " 'GradientBoost': [0.8851540616246498,\n",
       "  {'n_estimators': 50,\n",
       "   'min_samples_split': 2,\n",
       "   'min_samples_leaf': 1,\n",
       "   'max_depth': 5,\n",
       "   'learning_rate': 0.1}]}"
      ]
     },
     "execution_count": 21,
     "metadata": {},
     "output_type": "execute_result"
    }
   ],
   "source": [
    "tuned"
   ]
  },
  {
   "cell_type": "code",
   "execution_count": 22,
   "id": "21ef7e3e",
   "metadata": {
    "execution": {
     "iopub.execute_input": "2024-05-12T12:58:59.426718Z",
     "iopub.status.busy": "2024-05-12T12:58:59.426185Z",
     "iopub.status.idle": "2024-05-12T12:58:59.457377Z",
     "shell.execute_reply": "2024-05-12T12:58:59.456026Z"
    },
    "papermill": {
     "duration": 0.048061,
     "end_time": "2024-05-12T12:58:59.460267",
     "exception": false,
     "start_time": "2024-05-12T12:58:59.412206",
     "status": "completed"
    },
    "tags": []
   },
   "outputs": [
    {
     "name": "stdout",
     "output_type": "stream",
     "text": [
      "0.8151260504201681\n",
      "              precision    recall  f1-score   support\n",
      "\n",
      "           0       0.79      0.80      0.80       160\n",
      "           1       0.84      0.83      0.83       197\n",
      "\n",
      "    accuracy                           0.82       357\n",
      "   macro avg       0.81      0.81      0.81       357\n",
      "weighted avg       0.82      0.82      0.82       357\n",
      "\n"
     ]
    }
   ],
   "source": [
    "#Naive Bayes\n",
    "from sklearn.naive_bayes import GaussianNB\n",
    "GNB=GaussianNB()\n",
    "GNB.fit(xtr,ytr)\n",
    "print(GNB.score(xte,yte))\n",
    "ypred=GNB.predict(xte)\n",
    "print(classification_report(ypred,yte))\n"
   ]
  },
  {
   "cell_type": "code",
   "execution_count": null,
   "id": "02c4d035",
   "metadata": {
    "execution": {
     "iopub.execute_input": "2024-05-12T12:52:54.050360Z",
     "iopub.status.busy": "2024-05-12T12:52:54.049878Z",
     "iopub.status.idle": "2024-05-12T12:52:54.071541Z",
     "shell.execute_reply": "2024-05-12T12:52:54.070299Z",
     "shell.execute_reply.started": "2024-05-12T12:52:54.050328Z"
    },
    "papermill": {
     "duration": 0.011895,
     "end_time": "2024-05-12T12:58:59.484819",
     "exception": false,
     "start_time": "2024-05-12T12:58:59.472924",
     "status": "completed"
    },
    "tags": []
   },
   "outputs": [],
   "source": []
  },
  {
   "cell_type": "code",
   "execution_count": null,
   "id": "67857b51",
   "metadata": {
    "papermill": {
     "duration": 0.011992,
     "end_time": "2024-05-12T12:58:59.509689",
     "exception": false,
     "start_time": "2024-05-12T12:58:59.497697",
     "status": "completed"
    },
    "tags": []
   },
   "outputs": [],
   "source": []
  }
 ],
 "metadata": {
  "kaggle": {
   "accelerator": "none",
   "dataSources": [
    {
     "datasetId": 4755824,
     "sourceId": 8062170,
     "sourceType": "datasetVersion"
    }
   ],
   "dockerImageVersionId": 30698,
   "isGpuEnabled": false,
   "isInternetEnabled": true,
   "language": "python",
   "sourceType": "notebook"
  },
  "kernelspec": {
   "display_name": "Python 3",
   "language": "python",
   "name": "python3"
  },
  "language_info": {
   "codemirror_mode": {
    "name": "ipython",
    "version": 3
   },
   "file_extension": ".py",
   "mimetype": "text/x-python",
   "name": "python",
   "nbconvert_exporter": "python",
   "pygments_lexer": "ipython3",
   "version": "3.10.13"
  },
  "papermill": {
   "default_parameters": {},
   "duration": 181.365953,
   "end_time": "2024-05-12T12:59:02.144740",
   "environment_variables": {},
   "exception": null,
   "input_path": "__notebook__.ipynb",
   "output_path": "__notebook__.ipynb",
   "parameters": {},
   "start_time": "2024-05-12T12:56:00.778787",
   "version": "2.5.0"
  }
 },
 "nbformat": 4,
 "nbformat_minor": 5
}
